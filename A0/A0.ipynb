{
 "cells": [
  {
   "cell_type": "markdown",
   "metadata": {
    "editable": false,
    "slideshow": {
     "slide_type": "slide"
    }
   },
   "source": [
    "#  Demo assignment Comp 421 Fall 2022\n",
    "## **Not for credit**\n",
    "\n",
    "<img src=\"https://comp421.cs.unc.edu/static/images/COMP421Logo.png\" \n",
    "     align=\"right\" style=\"display:inline; width:100px; \">\n",
    "\n",
    "The Jupyter Notebook is an open-source web application that allows you to run Python, R, and other applications\n",
    "in the browser.\n",
    "\n",
    "Each notebook is composed of cells.\n",
    "This cell is written in Markdown language and appears in your browser as HTML.\n",
    "\n",
    "The next cell is Python code which you execute by placing your cursor in the next cell\n",
    "and clicking the <i class=\"fa-play fa\"></i> `Run` button or hitting `<ctrl>-Enter`.\n",
    "This Python code cell will invoke a special macro to save your work every 15 seconds,\n",
    "get comp421 and sqlite code, and get a checker to verify your results.\n"
   ]
  },
  {
   "cell_type": "code",
   "execution_count": null,
   "metadata": {
    "deletable": false,
    "editable": false,
    "execution": {},
    "slideshow": {
     "slide_type": "slide"
    }
   },
   "outputs": [],
   "source": [
    "# You cannot and should not update this cell\n",
    "%autosave 15\n",
    "import comp421\n",
    "check, report = comp421.start('A0')\n",
    "import sqlite3"
   ]
  },
  {
   "cell_type": "markdown",
   "metadata": {
    "editable": false,
    "slideshow": {
     "slide_type": "slide"
    }
   },
   "source": [
    "## Enter data in cells\n",
    "\n",
    "You may have noticed that you cannot update the previous cell.\n",
    "This is for your own protection.\n",
    "Where possible, cells that you should not update are marked read-only.\n",
    "\n",
    "The next cell is a Python cell where you should enter\n",
    "your onyen and any collaborators you have.\n",
    "For submitted homeworks, you must type in all the code but\n",
    "you are allowed to have help from collaborators.\n",
    "\n",
    "As part of your Honor Code commitment, please enter any collaborators that helped you on a homework."
   ]
  },
  {
   "cell_type": "code",
   "execution_count": null,
   "metadata": {
    "execution": {},
    "slideshow": {
     "slide_type": "slide"
    }
   },
   "outputs": [],
   "source": [
    "# fill in the information below\n",
    "Author = 'youronyen'\n",
    "Collaborators = ['list', 'their', 'onyens', 'here']"
   ]
  },
  {
   "cell_type": "markdown",
   "metadata": {
    "editable": false,
    "slideshow": {
     "slide_type": "slide"
    }
   },
   "source": [
    "## The checker\n",
    "\n",
    "The next read-only Python cell verifies that you have set the `Author` and `Collaborators`\n",
    "variables correctly.\n",
    "\n",
    "The checker is very helpful in letting you know that your answer _appears_ correct.\n",
    "It says _appears_ correct because in a real assignment the grader will run with a different set of data.\n",
    "For example, in a homework assignment the question might be to count up the \n",
    "number of items in a database table.\n",
    "You could print the table, physically count them, enter the number of elements, and the\n",
    "grader would indicate that your answer _appears_ correct.\n",
    "\n",
    "But the grader will run with a different database and your hard-coded answer will be marked incorrect."
   ]
  },
  {
   "cell_type": "code",
   "execution_count": null,
   "metadata": {
    "deletable": false,
    "editable": false,
    "execution": {},
    "slideshow": {
     "slide_type": "slide"
    }
   },
   "outputs": [],
   "source": [
    "# You cannot and should not update this cell\n",
    "check('Author', Author != 'youronyen', points=2.5, sort=True)\n",
    "check('Collaborators', Collaborators != ['list', 'their', 'onyens', 'here'], points=2.5, sort=True)"
   ]
  },
  {
   "cell_type": "markdown",
   "metadata": {
    "editable": false,
    "slideshow": {
     "slide_type": "slide"
    }
   },
   "source": [
    "# Python level\n",
    "\n",
    "The checker uses hashing to compare your answer to the one expected.\n",
    "This presents a potential problem if the Python level run on the notebook and\n",
    "the grader do not match.\n",
    "\n",
    "The code below checks your Python level"
   ]
  },
  {
   "cell_type": "code",
   "execution_count": null,
   "metadata": {
    "editable": false,
    "execution": {},
    "slideshow": {
     "slide_type": "slide"
    }
   },
   "outputs": [],
   "source": [
    "# You cannot and should not update this cell\n",
    "import sys\n",
    "\n",
    "print('Your Python level is', sys.version.split()[0])"
   ]
  },
  {
   "cell_type": "code",
   "execution_count": null,
   "metadata": {
    "editable": false,
    "execution": {},
    "slideshow": {
     "slide_type": "slide"
    }
   },
   "outputs": [],
   "source": [
    "# You cannot and should not update this cell\n",
    "check('Python level', sys.version.split()[0], points=10)"
   ]
  },
  {
   "cell_type": "markdown",
   "metadata": {
    "editable": false,
    "slideshow": {
     "slide_type": "slide"
    }
   },
   "source": [
    "The following cell creates an in-memory database with a list of \n",
    "academic departments at UNC.\n",
    "(See [Academic Departments](https://www.unc.edu/a-z-departments/).)\n",
    "\n",
    "The schema for this table is:\n",
    "\n",
    " ```sql\n",
    " create table Department (\n",
    "     did integer primary key, \n",
    "     name text)\n",
    " ```\n"
   ]
  },
  {
   "cell_type": "code",
   "execution_count": null,
   "metadata": {
    "execution": {},
    "slideshow": {
     "slide_type": "slide"
    }
   },
   "outputs": [],
   "source": [
    "# You cannot and should not update this cell\n",
    "db = sqlite3.connect('departments.sqlite')\n",
    "cursor = db.cursor()\n",
    "\n",
    "cursor.execute('''\n",
    "   SELECT name from Department\n",
    "''')\n",
    "for row in cursor.fetchall():\n",
    "    print('Department', row)"
   ]
  },
  {
   "cell_type": "markdown",
   "metadata": {
    "editable": false,
    "slideshow": {
     "slide_type": "slide"
    }
   },
   "source": [
    "## Tuples in Python\n",
    "\n",
    "You'll notice that the above code printed out `Department ('Computer Science',)` instead of something\n",
    "a little more pretty.\n",
    "That's because each row of the database is returned as a Python tuple (a immutable array).\n",
    "Of course, SQLite could be configured to return dictionaries, arrays, etc.\n",
    "\n",
    "But the following code prints the data a little more _nicely_."
   ]
  },
  {
   "cell_type": "code",
   "execution_count": null,
   "metadata": {
    "execution": {},
    "slideshow": {
     "slide_type": "slide"
    }
   },
   "outputs": [],
   "source": [
    "cursor.execute('''\n",
    "   SELECT name from Department\n",
    "''')\n",
    "for row in cursor.fetchall():\n",
    "    print('Department ', row[0])"
   ]
  },
  {
   "cell_type": "markdown",
   "metadata": {
    "editable": false,
    "slideshow": {
     "slide_type": "slide"
    }
   },
   "source": [
    "## Printing in Python\n",
    "\n",
    "You can use format strings, f-strings, to make the code appear a little more _neat_ while still producing nice output.\n",
    "Of course, for assignments you can print things any way you want.\n",
    "The grader only cares about the answers."
   ]
  },
  {
   "cell_type": "code",
   "execution_count": null,
   "metadata": {
    "execution": {},
    "slideshow": {
     "slide_type": "slide"
    }
   },
   "outputs": [],
   "source": [
    "cursor.execute('''\n",
    "   SELECT name from Department\n",
    "''')\n",
    "for row in cursor.fetchall():\n",
    "    print(f'Department {row[0]}')"
   ]
  },
  {
   "cell_type": "markdown",
   "metadata": {
    "editable": false,
    "slideshow": {
     "slide_type": "slide"
    }
   },
   "source": [
    "## Too fancy?\n",
    "\n",
    "Here's an even more-condensed print"
   ]
  },
  {
   "cell_type": "code",
   "execution_count": null,
   "metadata": {
    "execution": {},
    "slideshow": {
     "slide_type": "slide"
    }
   },
   "outputs": [],
   "source": [
    "cursor.execute('''\n",
    "   SELECT name from Department\n",
    "''')\n",
    "print(*[row[0] for row in cursor.fetchall()], sep='\\n')"
   ]
  },
  {
   "cell_type": "markdown",
   "metadata": {
    "editable": false,
    "slideshow": {
     "slide_type": "slide"
    }
   },
   "source": [
    "## Play here\n",
    "\n",
    "Yeah, that was too fancy.  \n",
    "\n",
    "Below is a cell you can play in."
   ]
  },
  {
   "cell_type": "code",
   "execution_count": null,
   "metadata": {
    "execution": {},
    "slideshow": {
     "slide_type": "slide"
    }
   },
   "outputs": [],
   "source": [
    "cursor.execute('''\n",
    "   SELECT name from Department\n",
    "''')\n",
    "rows = cursor.fetchall()\n",
    "print('There are', len(rows), 'departments')\n",
    "print(rows[0][0], 'is one of the departments')"
   ]
  },
  {
   "cell_type": "markdown",
   "metadata": {
    "editable": false,
    "slideshow": {
     "slide_type": "slide"
    }
   },
   "source": [
    "## Getting a report of your homework\n",
    "\n",
    "When you are done with a homework, a report will be produced similar to the next cell."
   ]
  },
  {
   "cell_type": "code",
   "execution_count": null,
   "metadata": {
    "deletable": false,
    "editable": false,
    "execution": {},
    "slideshow": {
     "slide_type": "slide"
    }
   },
   "outputs": [],
   "source": [
    "# You cannot and should not update this cell\n",
    "# This cell will produce a summary report of your assignment\n",
    "assert Author != 'youronyen'\n",
    "assert Collaborators != ['list', 'their', 'onyens', 'here']\n",
    "report(Author, Collaborators)"
   ]
  },
  {
   "cell_type": "markdown",
   "metadata": {
    "editable": false,
    "slideshow": {
     "slide_type": "slide"
    }
   },
   "source": [
    "# Ensuring completion\n",
    "\n",
    "At the end of the assignment, it is\n",
    "a good idea to\n",
    "\n",
    "1. Re-run your program from the beginning. \n",
    "Remember, you can interactively run and update cells\n",
    "but the grader will basically do a restart.\n",
    "So you should do a restart.\n",
    "\n",
    "2. Then you should save your work\n",
    "\n",
    "3. Lastly you should submit it"
   ]
  },
  {
   "cell_type": "markdown",
   "metadata": {
    "editable": false,
    "slideshow": {
     "slide_type": "slide"
    }
   },
   "source": [
    "## Done!\n",
    "<img src=\"https://comp421.cs.unc.edu/static/images/restartAndClearOutput.png\" width=\"300\" style=\"float: right\" />\n",
    "\n",
    "Now go back, restart the kernel (menu <font color=\"green\">Kernel</font>-><font color=\"green\">Restart and Clear</font>), and then Shift-Enter your way through the notebook to run all the cells again so you an be sure all your code will work as you expect during grading."
   ]
  },
  {
   "cell_type": "markdown",
   "metadata": {
    "editable": false,
    "slideshow": {
     "slide_type": "slide"
    }
   },
   "source": [
    "## Saving your work\n",
    "<img src=\"https://comp421.cs.unc.edu/static/images/saveAndCheckpoint.png\" width=\"300\" style=\"float: right\" />\n",
    "\n",
    "Now save your work by going to (menu <font color='green'>File</font>-><font color='green'>Save and Checkpoint</font>)"
   ]
  },
  {
   "cell_type": "markdown",
   "metadata": {
    "editable": false,
    "slideshow": {
     "slide_type": "slide"
    }
   },
   "source": [
    "## Submit your notebook\n",
    "\n",
    "After saving, restarting the kernel, and verifying your report,\n",
    "you would submit your notebook.\n",
    "Of course, this is a demo so you cannot submit it.\n",
    "\n",
    "\n",
    "Note that if you actually saved your work you should not see the leaving site message below.\n",
    "If you do see the `Leave Site` warning, cancel and save your work again.\n",
    "<br />\n",
    "<img src=\"https://comp421.cs.unc.edu/static/images/leaveSite.png\" width=\"300\"/>\n",
    "\n",
    "\n",
    "\n",
    "\n",
    "To submit your notebook, go to https://comp421.cs.unc.edu/notebook \n",
    "If you may have accidentally downloaded the assignment zip file multiple times,\n",
    "ensure you submit the file from the directory where your solution is!\n",
    "You <font color='red'>must</font> ensure that you select the correct file.\n",
    "\n",
    "<img src=\"https://comp421.cs.unc.edu/static/images/SubmitNotebook.png\" width=\"300\" style=\"float: left\" />\n",
    "\n"
   ]
  }
 ],
 "metadata": {
  "kernelspec": {
   "display_name": "Python 3 (ipykernel)",
   "language": "python",
   "name": "python3"
  },
  "language_info": {
   "codemirror_mode": {
    "name": "ipython",
    "version": 3
   },
   "file_extension": ".py",
   "mimetype": "text/x-python",
   "name": "python",
   "nbconvert_exporter": "python",
   "pygments_lexer": "ipython3",
   "version": "3.9.12"
  },
  "rise": {
   "enable_chalkboard": true,
   "scroll": true,
   "theme": "comp116"
  },
  "toc": {
   "base_numbering": 1,
   "nav_menu": {},
   "number_sections": true,
   "sideBar": true,
   "skip_h1_title": false,
   "title_cell": "Table of Contents",
   "title_sidebar": "Contents",
   "toc_cell": false,
   "toc_position": {},
   "toc_section_display": true,
   "toc_window_display": false
  }
 },
 "nbformat": 4,
 "nbformat_minor": 1
}
